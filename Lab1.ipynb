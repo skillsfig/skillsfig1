{
 "cells": [
  {
   "cell_type": "code",
   "execution_count": 4,
   "id": "0bb781d1-5fc5-415a-9de1-ce22f68e4159",
   "metadata": {},
   "outputs": [
    {
     "data": {
      "text/plain": [
       "8"
      ]
     },
     "execution_count": 4,
     "metadata": {},
     "output_type": "execute_result"
    }
   ],
   "source": [
    "ord (\"M\") % 10 + 1"
   ]
  },
  {
   "cell_type": "markdown",
   "id": "307b7a99-fff0-4f35-92da-9dbd1dafd686",
   "metadata": {},
   "source": [
    "# <span style=\"color: #003897; font-style: italic;\">Йорданія\n",
    "</span>\n",
    "\n",
    "## Загальні відомості\n",
    "\n",
    "<span style=\"color: #003897; font-style: italic; font-size: 18px\">Йорда́нія</span> - країна, яка знаходиться на південному заході Азії.\n",
    "\n",
    "- **Площа**: 89,34 тыс. км²\n",
    "- **Населення**: 11,29 мільйон\n",
    "- **Столиця**: Амман\n",
    "- **Державний устрій**: конституційна монархія\n",
    "\n",
    "## Видатні персоналії\n",
    "\n",
    "- **Король Абдалла II** — нинішній король Йорданії, впливовий політичний лідер.\n",
    "- **Королева Ранія** — дружина короля, відома своєю благодійною та соціальною діяльністю.\n",
    "- **Король Хусейн бін Талал** — попередній король Йорданії (1952–1999), який забезпечив стабільність країни та розвиток мирних відносин з Ізраїлем.\n",
    "\n",
    "## Пам'ятки культури та природи\n",
    "\n",
    "### <span style=\"color: green; font-style: italic;\">Природні пам'ятки</span>\n",
    "\n",
    "- **Пустеля Ваді-Рам**\n",
    "- **Річка Йордан**\n",
    "- **Мертве море**\n",
    "\n",
    "### Культурні пам'ятки\n",
    "\n",
    "- **Замок Керак**\n",
    "- **Амманський римський театр**\n",
    "\n",
    "<div style=\"border:2px solid black; padding: 10px;\">\n",
    "  <span style=\"color: orange; font-style: italic; font-size: 24px\">Ця країна відома своїми мальовничими ландшафтами, серед яких пустелі з червоним піском, драматичні скелясті гори, солоні озера, а також глибокі каньйони, річки та оазиси..</span>\n",
    "</div>\n",
    "\n",
    "## Демографія\n",
    "\n",
    "| Показник | Значення |\n",
    "|----------|----------|\n",
    "| Населення | 11,29 мільйон |\n",
    "| Офіційна мова | Арабська |\n",
    "| ВВП (на душу населення) | $4600–5000 |\n",
    "\n",
    "## Список значущих природних об'єктів\n",
    "\n",
    "- **Долина Джераш**\n",
    "- **Національний парк Дана**\n",
    "- **Гора Небо**\n",
    " \n",
    "## Зображення\n",
    "\n",
    "![Краєвид Ісландії](https://cdn-ru.bitrix24.by/b8823077/landing/2d0/2d0216b8f17375015f19a697629b5975/cropped-iordaniya-osn_2x.jpg)\n",
    "\n",
    "\n",
    "## Додаткові ресурси\n",
    "\n",
    "Для детальнішої інформації про Йорданію відвідайте [Wikipedia](https://uk.wikipedia.org/wiki/%D0%99%D0%BE%D1%80%D0%B4%D0%B0%D0%BD%D1%96%D1%8F).\n",
    "\n"
   ]
  },
  {
   "cell_type": "markdown",
   "id": "230a9ff9-432f-4163-bcd6-8639f783d4a0",
   "metadata": {},
   "source": [
    "\n"
   ]
  },
  {
   "cell_type": "code",
   "execution_count": 2,
   "id": "8e7ba2c6-0c2c-42fb-95f1-19c293ff09cf",
   "metadata": {},
   "outputs": [
    {
     "data": {
      "text/html": [
       "<svg width=\"300\" height=\"200\">\n",
       "  <!-- Чорна смуга -->\n",
       "  <rect y=\"0\" width=\"300\" height=\"66.66\" fill=\"#000000\" />\n",
       "  \n",
       "  <!-- Біла смуга -->\n",
       "  <rect y=\"66.66\" width=\"300\" height=\"66.66\" fill=\"#ffffff\" />\n",
       "  \n",
       "  <!-- Зелена смуга -->\n",
       "  <rect y=\"133.32\" width=\"300\" height=\"66.66\" fill=\"#007a3d\" />\n",
       "  \n",
       "  <!-- Червоний трикутник -->\n",
       "  <polygon points=\"0,0 0,200 100,100\" fill=\"#ce1126\" />\n",
       "  \n",
       "  <!-- Біла семикутна зірка -->\n",
       "  <circle cx=\"40\" cy=\"100\" r=\"14\" fill=\"#ffffff\" />\n",
       "  <!-- Промені зірки, зроблені через круг -->\n",
       "  <polygon points=\"40,86 42,100 38,100\" fill=\"red\" />\n",
       "  <polygon points=\"40,114 42,100 38,100\" fill=\"red\" />\n",
       "  <polygon points=\"26,100 40,100 40,98\" fill=\"red\" />\n",
       "  <polygon points=\"54,100 40,100 40,98\" fill=\"red\" />\n",
       "  <polygon points=\"32,94 40,100 40,94\" fill=\"red\" />\n",
       "  <polygon points=\"48,106 40,100 40,106\" fill=\"red\" />\n",
       "  <polygon points=\"48,94 40,100 40,94\" fill=\"red\" />\n",
       "  <polygon points=\"32,106 40,100 40,106\" fill=\"red\" />\n",
       "</svg>\n"
      ],
      "text/plain": [
       "<IPython.core.display.HTML object>"
      ]
     },
     "metadata": {},
     "output_type": "display_data"
    }
   ],
   "source": [
    "%%html\n",
    "<svg width=\"300\" height=\"200\">\n",
    "  <!-- Чорна смуга -->\n",
    "  <rect y=\"0\" width=\"300\" height=\"66.66\" fill=\"#000000\" />\n",
    "  \n",
    "  <!-- Біла смуга -->\n",
    "  <rect y=\"66.66\" width=\"300\" height=\"66.66\" fill=\"#ffffff\" />\n",
    "  \n",
    "  <!-- Зелена смуга -->\n",
    "  <rect y=\"133.32\" width=\"300\" height=\"66.66\" fill=\"#007a3d\" />\n",
    "  \n",
    "  <!-- Червоний трикутник -->\n",
    "  <polygon points=\"0,0 0,200 100,100\" fill=\"#ce1126\" />\n",
    "  \n",
    "  <!-- Біла семикутна зірка -->\n",
    "  <circle cx=\"40\" cy=\"100\" r=\"14\" fill=\"#ffffff\" />\n",
    "  <!-- Промені зірки, зроблені через круг -->\n",
    "  <polygon points=\"40,86 42,100 38,100\" fill=\"red\" />\n",
    "  <polygon points=\"40,114 42,100 38,100\" fill=\"red\" />\n",
    "  <polygon points=\"26,100 40,100 40,98\" fill=\"red\" />\n",
    "  <polygon points=\"54,100 40,100 40,98\" fill=\"red\" />\n",
    "  <polygon points=\"32,94 40,100 40,94\" fill=\"red\" />\n",
    "  <polygon points=\"48,106 40,100 40,106\" fill=\"red\" />\n",
    "  <polygon points=\"48,94 40,100 40,94\" fill=\"red\" />\n",
    "  <polygon points=\"32,106 40,100 40,106\" fill=\"red\" />\n",
    "</svg>\n"
   ]
  },
  {
   "cell_type": "code",
   "execution_count": 4,
   "id": "932fc787-b505-4c09-8558-40f3c81ea639",
   "metadata": {},
   "outputs": [
    {
     "name": "stdin",
     "output_type": "stream",
     "text": [
      "Введіть перше число (a):  3\n",
      "Введіть друге число (b):  15\n"
     ]
    },
    {
     "name": "stdout",
     "output_type": "stream",
     "text": [
      "Прості числа в діапазоні [3, 15]: [3, 5, 7, 11, 13]\n"
     ]
    }
   ],
   "source": [
    "def task_6():\n",
    "    try:\n",
    "        # Введення чисел a і b\n",
    "        a = int(input(\"Введіть перше число (a): \"))\n",
    "        b = int(input(\"Введіть друге число (b): \"))\n",
    "\n",
    "        # Функція для перевірки простоти числа\n",
    "        def is_prime(n):\n",
    "            if n < 2:\n",
    "                return False\n",
    "            for i in range(2, int(n**0.5) + 1):\n",
    "                if n % i == 0:\n",
    "                    return False\n",
    "            return True\n",
    "\n",
    "        # Знаходження всіх простих чисел у діапазоні [a, b]\n",
    "        primes = [i for i in range(a, b + 1) if is_prime(i)]\n",
    "        \n",
    "        # Перевірка чи є прості числа в діапазоні\n",
    "        if primes:\n",
    "            print(f\"Прості числа в діапазоні [{a}, {b}]: {primes}\")\n",
    "        else:\n",
    "            print(f\"У діапазоні [{a}, {b}] немає простих чисел.\")\n",
    "        \n",
    "    except ValueError:\n",
    "        print(\"Помилка. Введіть, будь ласка, цілі числа.\")\n",
    "\n",
    "# Приклад використання функції\n",
    "task_6()\n",
    "\n"
   ]
  },
  {
   "cell_type": "code",
   "execution_count": null,
   "id": "831e3f37-0b55-46b3-a3bc-07c21dc8ff4a",
   "metadata": {},
   "outputs": [],
   "source": []
  }
 ],
 "metadata": {
  "kernelspec": {
   "display_name": "Python 3 (ipykernel)",
   "language": "python",
   "name": "python3"
  },
  "language_info": {
   "codemirror_mode": {
    "name": "ipython",
    "version": 3
   },
   "file_extension": ".py",
   "mimetype": "text/x-python",
   "name": "python",
   "nbconvert_exporter": "python",
   "pygments_lexer": "ipython3",
   "version": "3.12.4"
  }
 },
 "nbformat": 4,
 "nbformat_minor": 5
}
